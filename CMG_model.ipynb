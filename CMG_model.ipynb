{
 "cells": [
  {
   "cell_type": "code",
   "execution_count": 197,
   "id": "fd18a935",
   "metadata": {},
   "outputs": [],
   "source": [
    "import numpy as np\n",
    "from RL2.clicker import click_to_start\n",
    "import pyautogui as gui\n",
    "import keyboard as key"
   ]
  },
  {
   "cell_type": "code",
   "execution_count": 125,
   "id": "77191c89",
   "metadata": {},
   "outputs": [],
   "source": [
    "# read dat file\n",
    "\n",
    "dat_path = './RL2/model/model_upscaling2_5_3.dat'\n",
    "log_path = './RL2/model/model_upscaling2_5_3.log'"
   ]
  },
  {
   "cell_type": "code",
   "execution_count": 163,
   "id": "eb6ea780",
   "metadata": {},
   "outputs": [],
   "source": [
    "def read_txt_file(path):\n",
    "    f = open(path, \"r\")\n",
    "    header = f.read()   \n",
    "    return header\n",
    "\n",
    "# optimize the first wfrac param\n",
    "def find_replace_wfrac(dat_path, replace_to = 1):\n",
    "    header = read_txt_file(dat_path)\n",
    "    idx = header.find('wfrac')\n",
    "    dat2 = header[:idx+len('wfrac')+34] + str(replace_to) + header[idx+len('wfrac')+34+3:] \n",
    "    \n",
    "    # save dat_file\n",
    "    with open(dat_path,'w') as f:\n",
    "        f.write(dat2)\n",
    "    \n",
    "    "
   ]
  },
  {
   "cell_type": "code",
   "execution_count": 164,
   "id": "ae4a7a89",
   "metadata": {},
   "outputs": [
    {
     "data": {
      "text/plain": [
       "'0.1'"
      ]
     },
     "execution_count": 164,
     "metadata": {},
     "output_type": "execute_result"
    }
   ],
   "source": [
    "str(0.1)"
   ]
  },
  {
   "cell_type": "code",
   "execution_count": 198,
   "id": "b1b1b416",
   "metadata": {},
   "outputs": [],
   "source": [
    "def objective_function(path):\n",
    "    log_f = read_txt_file(path)\n",
    "    \n",
    "    idx = log_f.find('Cumulative Production')\n",
    "    print(idx)\n",
    "    print(log_f[idx+ len('Cumulative Production'):][:15])\n",
    "    cum_prod = float(log_f[idx+ len('Cumulative Production'):][:15])\n",
    "    return cum_prod"
   ]
  },
  {
   "cell_type": "code",
   "execution_count": 199,
   "id": "660cf045",
   "metadata": {},
   "outputs": [],
   "source": [
    "wfrac_list = [0.1,0.2,0.3,0.4,0.5,0.7,0.9,1]"
   ]
  },
  {
   "cell_type": "code",
   "execution_count": 200,
   "id": "98b36bb5",
   "metadata": {},
   "outputs": [
    {
     "name": "stdout",
     "output_type": "stream",
     "text": [
      "63629\n",
      "      850.74   \n"
     ]
    }
   ],
   "source": [
    "cum_prod = objective_function(log_path)"
   ]
  },
  {
   "cell_type": "code",
   "execution_count": 201,
   "id": "7a45ef20",
   "metadata": {},
   "outputs": [
    {
     "data": {
      "text/plain": [
       "'./RL2/model/model_upscaling2_5_3.log'"
      ]
     },
     "execution_count": 201,
     "metadata": {},
     "output_type": "execute_result"
    }
   ],
   "source": [
    "log_path"
   ]
  },
  {
   "cell_type": "code",
   "execution_count": 174,
   "id": "b7d43167",
   "metadata": {},
   "outputs": [],
   "source": [
    "import time\n",
    "time.sleep(10)"
   ]
  },
  {
   "cell_type": "code",
   "execution_count": 192,
   "id": "d44a6006",
   "metadata": {},
   "outputs": [
    {
     "name": "stdout",
     "output_type": "stream",
     "text": [
      "63629\n",
      "      850.74   \n"
     ]
    }
   ],
   "source": [
    "cum_prod = objective_function(log_path)"
   ]
  },
  {
   "cell_type": "code",
   "execution_count": 203,
   "id": "4bf70937",
   "metadata": {},
   "outputs": [],
   "source": [
    "time.sleep(10)"
   ]
  },
  {
   "cell_type": "code",
   "execution_count": 205,
   "id": "6b72ff7e",
   "metadata": {},
   "outputs": [
    {
     "name": "stdout",
     "output_type": "stream",
     "text": [
      "63629\n",
      "      850.74   \n",
      "63745\n",
      "      850.61   \n",
      "63513\n",
      "      850.17   \n",
      "63513\n",
      "      849.67   \n",
      "63629\n",
      "      850.56   \n",
      "63629\n",
      "      850.45   \n",
      "63281\n",
      "      850.55   \n",
      "63165\n",
      "      849.90   \n"
     ]
    }
   ],
   "source": [
    "cum_prods = {}\n",
    "for wfrac in wfrac_list:\n",
    "    find_replace_wfrac(dat_path, replace_to = wfrac)\n",
    "    gui.moveTo(553, 758)\n",
    "    gui.click()\n",
    "    click_to_start()\n",
    "    time.sleep(100)\n",
    "    \n",
    "    cum_prod = objective_function(log_path)\n",
    "    cum_prods[wfrac] = cum_prod"
   ]
  },
  {
   "cell_type": "code",
   "execution_count": 212,
   "id": "23991b83",
   "metadata": {},
   "outputs": [
    {
     "data": {
      "text/plain": [
       "{0.1: 850.74,\n",
       " 0.2: 850.61,\n",
       " 0.3: 850.17,\n",
       " 0.4: 849.67,\n",
       " 0.5: 850.56,\n",
       " 0.7: 850.45,\n",
       " 0.9: 850.55,\n",
       " 1: 849.9}"
      ]
     },
     "execution_count": 212,
     "metadata": {},
     "output_type": "execute_result"
    }
   ],
   "source": [
    "cum_prods"
   ]
  },
  {
   "cell_type": "code",
   "execution_count": 210,
   "id": "f0494697",
   "metadata": {},
   "outputs": [
    {
     "name": "stdout",
     "output_type": "stream",
     "text": [
      "0.1\n"
     ]
    }
   ],
   "source": [
    "max_value = list(cum_prods.values())\n",
    "max_key= list(cum_prods.keys())\n",
    "print(max_key[max_value.index(max(max_value))])"
   ]
  },
  {
   "cell_type": "code",
   "execution_count": null,
   "id": "fba6fdce",
   "metadata": {},
   "outputs": [],
   "source": []
  }
 ],
 "metadata": {
  "kernelspec": {
   "display_name": "Python 3 (ipykernel)",
   "language": "python",
   "name": "python3"
  },
  "language_info": {
   "codemirror_mode": {
    "name": "ipython",
    "version": 3
   },
   "file_extension": ".py",
   "mimetype": "text/x-python",
   "name": "python",
   "nbconvert_exporter": "python",
   "pygments_lexer": "ipython3",
   "version": "3.9.13"
  }
 },
 "nbformat": 4,
 "nbformat_minor": 5
}
